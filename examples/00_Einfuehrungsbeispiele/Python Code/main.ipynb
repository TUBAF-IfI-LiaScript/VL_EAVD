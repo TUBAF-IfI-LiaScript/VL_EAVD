{
 "cells": [
  {
   "cell_type": "markdown",
   "id": "70bf3a4e",
   "metadata": {},
   "source": [
    "# Auswertung der \"Lichtschrankenmessungen\" während der Vorlesung"
   ]
  },
  {
   "cell_type": "code",
   "execution_count": 21,
   "id": "61bc3cc4",
   "metadata": {},
   "outputs": [],
   "source": [
    "import pandas\n",
    "import matplotlib.pyplot as plt"
   ]
  },
  {
   "cell_type": "code",
   "execution_count": null,
   "id": "1bed9bc5",
   "metadata": {},
   "outputs": [],
   "source": [
    "# Read the CSV file into a DataFrame, set column name to raw data\n",
    "df = pandas.read_csv('data.csv', names=['raw_data'])"
   ]
  },
  {
   "cell_type": "code",
   "execution_count": 23,
   "id": "1c22f5e0",
   "metadata": {},
   "outputs": [
    {
     "data": {
      "text/html": [
       "<div>\n",
       "<style scoped>\n",
       "    .dataframe tbody tr th:only-of-type {\n",
       "        vertical-align: middle;\n",
       "    }\n",
       "\n",
       "    .dataframe tbody tr th {\n",
       "        vertical-align: top;\n",
       "    }\n",
       "\n",
       "    .dataframe thead th {\n",
       "        text-align: right;\n",
       "    }\n",
       "</style>\n",
       "<table border=\"1\" class=\"dataframe\">\n",
       "  <thead>\n",
       "    <tr style=\"text-align: right;\">\n",
       "      <th></th>\n",
       "      <th>raw_data</th>\n",
       "    </tr>\n",
       "  </thead>\n",
       "  <tbody>\n",
       "    <tr>\n",
       "      <th>0</th>\n",
       "      <td>04:54:27.239 -&gt; Person counted. Total = 1</td>\n",
       "    </tr>\n",
       "    <tr>\n",
       "      <th>1</th>\n",
       "      <td>04:54:27.336 -&gt; Person entered monitoring zone</td>\n",
       "    </tr>\n",
       "    <tr>\n",
       "      <th>2</th>\n",
       "      <td>04:54:28.558 -&gt; Person entered monitoring zone</td>\n",
       "    </tr>\n",
       "    <tr>\n",
       "      <th>3</th>\n",
       "      <td>04:54:28.880 -&gt; Person counted. Total = 2</td>\n",
       "    </tr>\n",
       "    <tr>\n",
       "      <th>4</th>\n",
       "      <td>04:54:28.944 -&gt; Person entered monitoring zone</td>\n",
       "    </tr>\n",
       "    <tr>\n",
       "      <th>5</th>\n",
       "      <td>04:54:29.105 -&gt; Person entered monitoring zone</td>\n",
       "    </tr>\n",
       "    <tr>\n",
       "      <th>6</th>\n",
       "      <td>04:54:29.845 -&gt; Person entered monitoring zone</td>\n",
       "    </tr>\n",
       "    <tr>\n",
       "      <th>7</th>\n",
       "      <td>04:54:29.909 -&gt; Person counted. Total = 3</td>\n",
       "    </tr>\n",
       "    <tr>\n",
       "      <th>8</th>\n",
       "      <td>04:54:30.134 -&gt; Person entered monitoring zone</td>\n",
       "    </tr>\n",
       "    <tr>\n",
       "      <th>9</th>\n",
       "      <td>04:54:30.746 -&gt; Person entered monitoring zone</td>\n",
       "    </tr>\n",
       "    <tr>\n",
       "      <th>10</th>\n",
       "      <td>04:54:30.842 -&gt; Person entered monitoring zone</td>\n",
       "    </tr>\n",
       "    <tr>\n",
       "      <th>11</th>\n",
       "      <td>04:54:31.068 -&gt; Person counted. Total = 4</td>\n",
       "    </tr>\n",
       "    <tr>\n",
       "      <th>12</th>\n",
       "      <td>04:54:31.132 -&gt; Person entered monitoring zone</td>\n",
       "    </tr>\n",
       "    <tr>\n",
       "      <th>13</th>\n",
       "      <td>04:54:31.839 -&gt; Person entered monitoring zone</td>\n",
       "    </tr>\n",
       "    <tr>\n",
       "      <th>14</th>\n",
       "      <td>04:54:31.968 -&gt; Person entered monitoring zone</td>\n",
       "    </tr>\n",
       "  </tbody>\n",
       "</table>\n",
       "</div>"
      ],
      "text/plain": [
       "                                          raw_data\n",
       "0        04:54:27.239 -> Person counted. Total = 1\n",
       "1   04:54:27.336 -> Person entered monitoring zone\n",
       "2   04:54:28.558 -> Person entered monitoring zone\n",
       "3        04:54:28.880 -> Person counted. Total = 2\n",
       "4   04:54:28.944 -> Person entered monitoring zone\n",
       "5   04:54:29.105 -> Person entered monitoring zone\n",
       "6   04:54:29.845 -> Person entered monitoring zone\n",
       "7        04:54:29.909 -> Person counted. Total = 3\n",
       "8   04:54:30.134 -> Person entered monitoring zone\n",
       "9   04:54:30.746 -> Person entered monitoring zone\n",
       "10  04:54:30.842 -> Person entered monitoring zone\n",
       "11       04:54:31.068 -> Person counted. Total = 4\n",
       "12  04:54:31.132 -> Person entered monitoring zone\n",
       "13  04:54:31.839 -> Person entered monitoring zone\n",
       "14  04:54:31.968 -> Person entered monitoring zone"
      ]
     },
     "execution_count": 23,
     "metadata": {},
     "output_type": "execute_result"
    }
   ],
   "source": [
    "data"
   ]
  },
  {
   "cell_type": "code",
   "execution_count": 30,
   "id": "92d6b363",
   "metadata": {},
   "outputs": [
    {
     "name": "stderr",
     "output_type": "stream",
     "text": [
      "<>:6: SyntaxWarning: invalid escape sequence '\\d'\n",
      "<>:8: SyntaxWarning: invalid escape sequence '\\d'\n",
      "<>:6: SyntaxWarning: invalid escape sequence '\\d'\n",
      "<>:8: SyntaxWarning: invalid escape sequence '\\d'\n",
      "/tmp/ipykernel_971263/2662023051.py:6: SyntaxWarning: invalid escape sequence '\\d'\n",
      "  data = data[data['values'].str.contains('\\d+')]\n",
      "/tmp/ipykernel_971263/2662023051.py:8: SyntaxWarning: invalid escape sequence '\\d'\n",
      "  data['values'] = data['values'].str.extract('(\\d+)').astype(int)\n",
      "/tmp/ipykernel_971263/2662023051.py:8: SettingWithCopyWarning: \n",
      "A value is trying to be set on a copy of a slice from a DataFrame.\n",
      "Try using .loc[row_indexer,col_indexer] = value instead\n",
      "\n",
      "See the caveats in the documentation: https://pandas.pydata.org/pandas-docs/stable/user_guide/indexing.html#returning-a-view-versus-a-copy\n",
      "  data['values'] = data['values'].str.extract('(\\d+)').astype(int)\n"
     ]
    },
    {
     "data": {
      "text/html": [
       "<div>\n",
       "<style scoped>\n",
       "    .dataframe tbody tr th:only-of-type {\n",
       "        vertical-align: middle;\n",
       "    }\n",
       "\n",
       "    .dataframe tbody tr th {\n",
       "        vertical-align: top;\n",
       "    }\n",
       "\n",
       "    .dataframe thead th {\n",
       "        text-align: right;\n",
       "    }\n",
       "</style>\n",
       "<table border=\"1\" class=\"dataframe\">\n",
       "  <thead>\n",
       "    <tr style=\"text-align: right;\">\n",
       "      <th></th>\n",
       "      <th>raw_data</th>\n",
       "      <th>timestamp</th>\n",
       "      <th>values</th>\n",
       "    </tr>\n",
       "  </thead>\n",
       "  <tbody>\n",
       "    <tr>\n",
       "      <th>0</th>\n",
       "      <td>04:54:27.239 -&gt; Person counted. Total = 1</td>\n",
       "      <td>2025-10-20 04:54:27.239</td>\n",
       "      <td>1</td>\n",
       "    </tr>\n",
       "    <tr>\n",
       "      <th>3</th>\n",
       "      <td>04:54:28.880 -&gt; Person counted. Total = 2</td>\n",
       "      <td>2025-10-20 04:54:28.880</td>\n",
       "      <td>2</td>\n",
       "    </tr>\n",
       "    <tr>\n",
       "      <th>7</th>\n",
       "      <td>04:54:29.909 -&gt; Person counted. Total = 3</td>\n",
       "      <td>2025-10-20 04:54:29.909</td>\n",
       "      <td>3</td>\n",
       "    </tr>\n",
       "    <tr>\n",
       "      <th>11</th>\n",
       "      <td>04:54:31.068 -&gt; Person counted. Total = 4</td>\n",
       "      <td>2025-10-20 04:54:31.068</td>\n",
       "      <td>4</td>\n",
       "    </tr>\n",
       "  </tbody>\n",
       "</table>\n",
       "</div>"
      ],
      "text/plain": [
       "                                     raw_data               timestamp  values\n",
       "0   04:54:27.239 -> Person counted. Total = 1 2025-10-20 04:54:27.239       1\n",
       "3   04:54:28.880 -> Person counted. Total = 2 2025-10-20 04:54:28.880       2\n",
       "7   04:54:29.909 -> Person counted. Total = 3 2025-10-20 04:54:29.909       3\n",
       "11  04:54:31.068 -> Person counted. Total = 4 2025-10-20 04:54:31.068       4"
      ]
     },
     "execution_count": 30,
     "metadata": {},
     "output_type": "execute_result"
    }
   ],
   "source": [
    "# split raw_data by \"->\" into timestamp and values\n",
    "data[['timestamp', 'values']] = data['raw_data'].str.split('->', expand=True)\n",
    "# convert timestamp to datetime\n",
    "data['timestamp'] = pandas.to_datetime(data['timestamp'], format='mixed')\n",
    "# drop rows with no number in values column\n",
    "data = data[data['values'].str.contains('\\d+')]\n",
    "# extract numeric values from values column\n",
    "data['values'] = data['values'].str.extract('(\\d+)').astype(int)\n",
    "data"
   ]
  },
  {
   "cell_type": "code",
   "execution_count": 34,
   "id": "ac94f51a",
   "metadata": {},
   "outputs": [
    {
     "data": {
      "text/plain": [
       "raw_data             object\n",
       "timestamp    datetime64[ns]\n",
       "values                int64\n",
       "dtype: object"
      ]
     },
     "execution_count": 34,
     "metadata": {},
     "output_type": "execute_result"
    }
   ],
   "source": [
    "data.dtypes"
   ]
  },
  {
   "cell_type": "code",
   "execution_count": 37,
   "id": "a5b8fe86",
   "metadata": {},
   "outputs": [
    {
     "data": {
      "image/png": "[encoded data removed]",
      "text/plain": [
       "<Figure size 640x480 with 1 Axes>"
      ]
     },
     "metadata": {},
     "output_type": "display_data"
    }
   ],
   "source": [
    "# plot values over time\n",
    "plt.plot(data['timestamp'], data['values'])\n",
    "plt.xlabel('Timestamp')\n",
    "plt.ylabel('Count')\n",
    "plt.title('Values over Time')\n",
    "# show hours and minutes on x-axis\n",
    "plt.gca().xaxis.set_major_formatter(plt.matplotlib.dates.DateFormatter('%Y-%m-%d %H:%M'))\n",
    "# change x-axis to show dates better\n",
    "plt.xticks(rotation=45)\n",
    "plt.tight_layout()  \n",
    "plt.show()"
   ]
  },
  {
   "cell_type": "code",
   "execution_count": null,
   "id": "64f03eee",
   "metadata": {},
   "outputs": [],
   "source": []
  }
 ],
 "metadata": {
  "kernelspec": {
   "display_name": "Python_Code-_ubmunLG",
   "language": "python",
   "name": "python3"
  },
  "language_info": {
   "codemirror_mode": {
    "name": "ipython",
    "version": 3
   },
   "file_extension": ".py",
   "mimetype": "text/x-python",
   "name": "python",
   "nbconvert_exporter": "python",
   "pygments_lexer": "ipython3",
   "version": "3.12.3"
  }
 },
 "nbformat": 4,
 "nbformat_minor": 5
}
